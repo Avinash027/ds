{
 "cells": [
  {
   "cell_type": "code",
   "execution_count": 7,
   "id": "ceb5d785-9575-4667-8b0b-ee5603745ad3",
   "metadata": {},
   "outputs": [],
   "source": [
    "import pandas as pd\n",
    "import numpy as np\n",
    "import seaborn as sns\n",
    "import matplotlib.pyplot as plt\n",
    "from sklearn.model_selection import train_test_split\n",
    "from sklearn.naive_bayes import GaussianNB\n",
    "from sklearn.preprocessing import StandardScaler\n",
    "from sklearn.metrics import confusion_matrix, accuracy_score, precision_score, recall_score, classification_report\n"
   ]
  },
  {
   "cell_type": "code",
   "execution_count": 8,
   "id": "cd5fb07e-3f79-4bda-8f15-cf328546610e",
   "metadata": {},
   "outputs": [
    {
     "name": "stdout",
     "output_type": "stream",
     "text": [
      "   Id  SepalLengthCm  SepalWidthCm  PetalLengthCm  PetalWidthCm      Species\n",
      "0   1            5.1           3.5            1.4           0.2  Iris-setosa\n",
      "1   2            4.9           3.0            1.4           0.2  Iris-setosa\n",
      "2   3            4.7           3.2            1.3           0.2  Iris-setosa\n",
      "3   4            4.6           3.1            1.5           0.2  Iris-setosa\n",
      "4   5            5.0           3.6            1.4           0.2  Iris-setosa\n",
      "(150, 6)\n",
      "<class 'pandas.core.frame.DataFrame'>\n",
      "RangeIndex: 150 entries, 0 to 149\n",
      "Data columns (total 6 columns):\n",
      " #   Column         Non-Null Count  Dtype  \n",
      "---  ------         --------------  -----  \n",
      " 0   Id             150 non-null    int64  \n",
      " 1   SepalLengthCm  150 non-null    float64\n",
      " 2   SepalWidthCm   150 non-null    float64\n",
      " 3   PetalLengthCm  150 non-null    float64\n",
      " 4   PetalWidthCm   150 non-null    float64\n",
      " 5   Species        150 non-null    object \n",
      "dtypes: float64(4), int64(1), object(1)\n",
      "memory usage: 7.2+ KB\n",
      "None\n"
     ]
    }
   ],
   "source": [
    "df = pd.read_csv(\"D:\\\\iris_dataset\\\\Iris.csv\")\n",
    "print(df.head())\n",
    "print(df.shape)\n",
    "print(df.info())\n"
   ]
  },
  {
   "cell_type": "code",
   "execution_count": 9,
   "id": "26bf9cb7-cc00-471e-a97f-2439ed78c958",
   "metadata": {},
   "outputs": [
    {
     "name": "stdout",
     "output_type": "stream",
     "text": [
      "Missing values:  Id               0\n",
      "SepalLengthCm    0\n",
      "SepalWidthCm     0\n",
      "PetalLengthCm    0\n",
      "PetalWidthCm     0\n",
      "Species          0\n",
      "dtype: int64\n",
      "Id               0\n",
      "SepalLengthCm    0\n",
      "SepalWidthCm     0\n",
      "PetalLengthCm    0\n",
      "PetalWidthCm     0\n",
      "Species          0\n",
      "dtype: int64\n"
     ]
    }
   ],
   "source": [
    "print(\"Missing values: \",df.isnull().sum())\n",
    "# Option 1: Drop rows with missing values\n",
    "# df = df.dropna()\n",
    "\n",
    "# Option 2: Impute missing values with mean (for numerical columns)\n",
    "df['SepalLengthCm'] = df['SepalLengthCm'].fillna(df['SepalLengthCm'].mean())\n",
    "df['SepalWidthCm'] = df['SepalWidthCm'].fillna(df['SepalWidthCm'].median())\n",
    "df['PetalLengthCm'] = df['PetalLengthCm'].fillna(df['PetalLengthCm'].mean())\n",
    "df['PetalWidthCm'] = df['PetalWidthCm'].fillna(df['PetalWidthCm'].median())\n",
    "\n",
    "# Option 3: Impute missing values in categorical columns with mode (for species)\n",
    "df['Species'] = df['Species'].fillna(df['Species'].mode()[0])\n",
    "\n",
    "# Verify if there are any remaining missing values\n",
    "print(df.isnull().sum())"
   ]
  },
  {
   "cell_type": "code",
   "execution_count": 10,
   "id": "1fb095e9-78a9-4e92-8cc2-1685acc91c28",
   "metadata": {},
   "outputs": [],
   "source": [
    "df.drop('Id', axis=1, inplace=True)\n"
   ]
  },
  {
   "cell_type": "code",
   "execution_count": 11,
   "id": "3b58b3f7-5827-4efa-81ec-ea7d3e65e470",
   "metadata": {},
   "outputs": [
    {
     "name": "stdout",
     "output_type": "stream",
     "text": [
      "       SepalLengthCm  SepalWidthCm  PetalLengthCm  PetalWidthCm\n",
      "count     150.000000    150.000000     150.000000    150.000000\n",
      "mean        5.843333      3.054000       3.758667      1.198667\n",
      "std         0.828066      0.433594       1.764420      0.763161\n",
      "min         4.300000      2.000000       1.000000      0.100000\n",
      "25%         5.100000      2.800000       1.600000      0.300000\n",
      "50%         5.800000      3.000000       4.350000      1.300000\n",
      "75%         6.400000      3.300000       5.100000      1.800000\n",
      "max         7.900000      4.400000       6.900000      2.500000\n",
      "SepalLengthCm    float64\n",
      "SepalWidthCm     float64\n",
      "PetalLengthCm    float64\n",
      "PetalWidthCm     float64\n",
      "Species           object\n",
      "dtype: object\n"
     ]
    }
   ],
   "source": [
    "print(df.describe())\n",
    "print(df.dtypes)"
   ]
  },
  {
   "cell_type": "code",
   "execution_count": 12,
   "id": "eacebbee-e16b-43fe-9ca0-ab8df6046948",
   "metadata": {},
   "outputs": [
    {
     "data": {
      "image/png": "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",
      "text/plain": [
       "<Figure size 640x480 with 1 Axes>"
      ]
     },
     "metadata": {},
     "output_type": "display_data"
    }
   ],
   "source": [
    "df.drop('Species', axis=1).boxplot()\n",
    "plt.title(\"Outlier Detection\")\n",
    "plt.show()"
   ]
  },
  {
   "cell_type": "code",
   "execution_count": 13,
   "id": "c2b25d3d-9611-47b8-907a-c44f3603c6e6",
   "metadata": {},
   "outputs": [],
   "source": [
    "X = df.drop('Species', axis=1)\n",
    "y = df['Species']\n",
    "\n",
    "scaler = StandardScaler()\n",
    "X_scaled = scaler.fit_transform(X)\n",
    "X_train, X_test, y_train, y_test = train_test_split(X_scaled, y, test_size=0.3, random_state=42)\n"
   ]
  },
  {
   "cell_type": "code",
   "execution_count": 14,
   "id": "cc1d5075-1aaf-4ce7-aca9-43a22537614e",
   "metadata": {},
   "outputs": [],
   "source": [
    "nb = GaussianNB()\n",
    "nb.fit(X_train, y_train)\n",
    "y_pred = nb.predict(X_test)\n"
   ]
  },
  {
   "cell_type": "code",
   "execution_count": 16,
   "id": "ab1ea9e2-b2a3-45fd-a55a-57e41b55852d",
   "metadata": {},
   "outputs": [
    {
     "name": "stdout",
     "output_type": "stream",
     "text": [
      "Confusion Matrix:\n",
      " [[19  0  0]\n",
      " [ 0 12  1]\n",
      " [ 0  0 13]]\n"
     ]
    }
   ],
   "source": [
    "cm = confusion_matrix(y_test, y_pred)\n",
    "print(\"Confusion Matrix:\\n\", cm)\n"
   ]
  },
  {
   "cell_type": "code",
   "execution_count": 18,
   "id": "388dfc7c-2637-4f4d-9e65-ae91f8641fc7",
   "metadata": {},
   "outputs": [
    {
     "name": "stdout",
     "output_type": "stream",
     "text": [
      "                 Iris-setosa  Iris-versicolor  Iris-virginica\n",
      "Iris-setosa               19                0               0\n",
      "Iris-versicolor            0               12               1\n",
      "Iris-virginica             0                0              13\n"
     ]
    }
   ],
   "source": [
    "# Extract TP, TN, FP, FN for each class (multiclass case)\n",
    "labels = df['Species'].unique()\n",
    "cm_df = pd.DataFrame(cm, index=labels, columns=labels)\n",
    "print(cm_df)\n"
   ]
  },
  {
   "cell_type": "code",
   "execution_count": 19,
   "id": "5863fc15-0c23-4252-a25f-f01d17052ca1",
   "metadata": {},
   "outputs": [
    {
     "name": "stdout",
     "output_type": "stream",
     "text": [
      "\n",
      "Class: Iris-setosa\n",
      "TP: 19, FP: 0, FN: 0, TN: 26\n",
      "Accuracy: 1.00, Error Rate: 0.00\n",
      "Precision: 1.00, Recall: 1.00\n",
      "\n",
      "Class: Iris-versicolor\n",
      "TP: 12, FP: 0, FN: 1, TN: 32\n",
      "Accuracy: 0.98, Error Rate: 0.02\n",
      "Precision: 1.00, Recall: 0.92\n",
      "\n",
      "Class: Iris-virginica\n",
      "TP: 13, FP: 1, FN: 0, TN: 31\n",
      "Accuracy: 0.98, Error Rate: 0.02\n",
      "Precision: 0.93, Recall: 1.00\n"
     ]
    }
   ],
   "source": [
    "# Compute TP, FP, TN, FN, Accuracy, Error Rate, Precision, Recall\n",
    "total = np.sum(cm)\n",
    "for i, label in enumerate(labels):\n",
    "    TP = cm[i, i]\n",
    "    FP = cm[:, i].sum() - TP\n",
    "    FN = cm[i, :].sum() - TP\n",
    "    TN = total - (TP + FP + FN)\n",
    "\n",
    "    accuracy = (TP + TN) / total\n",
    "    error_rate = 1 - accuracy\n",
    "    precision = TP / (TP + FP) if (TP + FP) > 0 else 0\n",
    "    recall = TP / (TP + FN) if (TP + FN) > 0 else 0\n",
    "\n",
    "    print(f\"\\nClass: {label}\")\n",
    "    print(f\"TP: {TP}, FP: {FP}, FN: {FN}, TN: {TN}\")\n",
    "    print(f\"Accuracy: {accuracy:.2f}, Error Rate: {error_rate:.2f}\")\n",
    "    print(f\"Precision: {precision:.2f}, Recall: {recall:.2f}\")"
   ]
  },
  {
   "cell_type": "code",
   "execution_count": 20,
   "id": "72d75d58-bed0-43e4-a9f9-9dd8441b4f6f",
   "metadata": {},
   "outputs": [
    {
     "name": "stdout",
     "output_type": "stream",
     "text": [
      "\n",
      "Classification Report:\n",
      "                  precision    recall  f1-score   support\n",
      "\n",
      "    Iris-setosa       1.00      1.00      1.00        19\n",
      "Iris-versicolor       1.00      0.92      0.96        13\n",
      " Iris-virginica       0.93      1.00      0.96        13\n",
      "\n",
      "       accuracy                           0.98        45\n",
      "      macro avg       0.98      0.97      0.97        45\n",
      "   weighted avg       0.98      0.98      0.98        45\n",
      "\n"
     ]
    }
   ],
   "source": [
    "print(\"\\nClassification Report:\\n\", classification_report(y_test, y_pred))\n"
   ]
  },
  {
   "cell_type": "code",
   "execution_count": 21,
   "id": "52bb5b5e-8f06-4175-9fb9-bf37d4fd8d8a",
   "metadata": {},
   "outputs": [
    {
     "data": {
      "image/png": "iVBORw0KGgoAAAANSUhEUgAAAjYAAAGGCAYAAABolMvdAAAAOXRFWHRTb2Z0d2FyZQBNYXRwbG90bGliIHZlcnNpb24zLjkuMiwgaHR0cHM6Ly9tYXRwbG90bGliLm9yZy8hTgPZAAAACXBIWXMAAA9hAAAPYQGoP6dpAABf7klEQVR4nO3de1yO9/8H8NdV6i6dRSpS6EAkwrdhQ4rkmEwHrDSnGYawOcwq9l1jI4yxAzJzmtnMsMh5cz7lNDoQsZVDSYoO6vr94df9deug++5wH3o9Pa7Hw/25tfnet*Xi94+1+f{uQRRFEUQE�LRa1AtZQ�YRRIZF2Y2BAREZHO]GJDRMRG/OHDREREWkMJj[ERASkMZjXEBERksZgYk�ERE�ag4{NERERaQwmnkRARKQymJhQnZG�lKQ+fnrAxMQEg)Bgx64d1tr+rVu;IAgCYeJiarVdtd�zZ0/0NlT2WE�UR:CpiZq1Y0bNzC+/H�0aNECm~p6MDY1Rrdu�bBs2TI8e/acB38dEJKSt5cv47o//S82bNiATp06 ejatOUaMAkMjI3LvI5JSUk�BAGCIODLL7+Uu/1./+0XERER)I/Pr4�oFa�AiJNmlTmv`iYGAiCgLN�z9bY+�XiOiBR+eopwCqO3bv3o1hw4ZBMpEgODgYrdu2VUF@I&766c/MnDkTV69e�Bfgflsj%3727�lonDQBtXRnlruDwapsbW+x7Nkz6Ojo1Ej/z1O�Xj08vgoUv//+O/~9/WX2�dyE�p6esjLy=Oo7X/o/ZeRkZGws7ND+/bt�33cvns7FDyf�lL0OhBRwWF�S7QiJSUFg[GBsLW1xcGDB2FlZSX�;HiRC�fK2P37t01|v6HDx4ACExN�WfsHIIgQE9Pr1bafp2JRIHu3bpj8+bNpRKbTZG2oX///ti+fXutxPl06VPUr1<fuvq>tXI+Iq)SfBrFtWLFkixIycnBejrZ�KaEvb21pg}ZYr08/Qnz7F�wQK�bNkSGokE$nZroDNn�vNz82O{7Ozw5ABQ+LX\3�nP//4D/\08NCiRqv09MMP0koRGRGwtb]FAMycOROBAMDObg7Aqc4Jb9/�USDBARBkCmLi4v�m2++CVOT�x'aGsLKYQl{5syR7i9vz�2Bgwfx1l|rgcDAAKamtkg8dDCuXbtW�vmSk5MxatQomJqawsTUFKG�oXj69Gl5F/YWw4cPxx9./yG�rCxp3Z{*Z5CUmITn�4eXqp#Zm]cZM0bAxcUFoaFME[7ho+Q�y5e6Citc/jwYXTu3BkAEBoaKn2kVfI=e/bsicZt2+LcuZPk3r06�4evL70tr46XCQoJwZ6eHsn�7+stDTMzU/z�7�+V/q6U$f3�mbr99tt�!KA�9PV00KhTJ+zcucPGrsOlS5fQo0cP9[9fH/b296j5558BAEeOHIG7uzv�9fXh5MSA?�v29xRw+/Z|vP-++3BycoK+tk7Mzc0x�Now;Lp1S6Zu}SO3o0ePYvz48\A3N4uxuT�Cg4Qx6^Djar56ROqHiQ3VKt9//x0tWsV1&5tK1V/zJgx;OsTTDm5obo6Gj26NDDUFRAwMLU3�TkZb7�9Nnr37o3FixfDzM�Eo0aNwtWzVwDAfn5i�OBgAMBQVh�4YFWLp0qVzxP�16^Q}GDDB+6j7�z5+Px�s�H9CgQTh27FiFx+3fvx/e3t64f'8+HiIiBYW�uQHj�Nbt26.foAB'\+/P548aXKo�Cj4+/qjJiYGcZWR|Y7Pz88PgiFgl19+kZ�t2r�JrVq1gpubW6n6Nr/dxI4dGZBgw!CsWbIEM2foxOLl9GkRv9pktF6dW6I^zpfAD@u�Dhs2LARWzRsPfu3aXvZGRkwMfHB+sbt8fSpUvhDeFRZ�bT�a1Dw0aNBISgQKi���IN998g3379�Grs76CtbX1a79jXl4eHj58WGrLygkpVffq1at,481scO3mFcyaNQuFy+GgYEB�H19(euvv1�7dXj06BEGDBgAd3dsLFq0�BKJBIGBgdh6dSsCAw�Rr18�fP7558*NzcXbb7+LJ0ieSI89C+Yjh0/jsHAqBxfvh~vvfceE�w<gJ49m5aZ3EaN@nXrl1DREQUgkODsXHJRvk6+kIUxdheUy[OJh�VsMeP�4sAxMGDB5e��fx8vAhA@DNmje�5jBkzRADiwYMHhWW2rQi�PLO0aPSsvv!74sSiUScPn2&�CwlJUUEMh7|xRc�bYahIi2tr`lQggPDxdfusRHP0t�hAfPHhQbrwl%1i3bp20rH3791KFhQWYkZMlHbt4�aKopaW�BgcHlzrfu++�K9�e+oFLRH�v83\P+fL3MDA5GEVRNL9+K23R09LTFEVRLCosEi0�LcXH�Mgir0FeX`tYVFRU6gtYJBJy/vz50rIzZ86E+m4mevT�IQIIV79eXea#j16yJt3ftXBCb++qmn4s2bN0VDQ0PR19g3td9RFEURwGu3M2fOSOt7e�qKLi4uIl5efrRsu|hY7Nq1s+jg4FAj12HTpk3Ss}vXz4sAR�0tLnHyZOlrsHL7Tx9+zRUmy$OnBIBiT/88)O0bN2�dSIAsTPHjmJBQYG0fNGiRSYA8fff&�vv8hHVCeyxoR1XnZ0�ADAyMqpU/T17�gAAwSHB�MqnT18OAKXG4jg7O+Ott96Svm7UqB7c.Jxw�+]NhW^#VcnYnV9++w3Fxa]v�iYtLQ3p8fENWoUGjRoKK1v164tevfe\f2eL3vV�fdkPp/11lv�yMiQZsPGE58OA4fPoz09HQcPHgQ6npZT6GAl6My9HSmvHPQFFrETIyMq�P2C4fP1pc0okEoSG`laq"p8+fTB+/(jMnz8ffn5+0GWPw�fffDPpc0�PBhxcXGl|pkzZ8rM{8zMxMFDB6W9YCU9Oxk�GvD�9kZSUhL++�#fafzVcR0MD9lehWdNJxgalqK1q�bw97dXVpe8vuX7QFfY�p�wrLC5GkqF7e3uYe�qWGkO0ceNkBq�PmDIB9erV˯O)IqpLmNhajTM�NgYA}W7Ci|y+nZtaWlqw47eXJbe�tiSpqSlus74tU96sWbNSfJiZmVYreIOAgAB069YNY8aMQePGjREYEHiffvqpsiQnJG4nJ6dS+5p2bo*PDx8aN{dXp~zT7��mZ'YACn2Xfv36wcjICFu3bsXG�RvRuPPnEteyRHFxMaKjo+Hg4C�SIKGDRuiYaNGuHTpEh4*dlzpcrZr�kQefc@g�skmGjRog@k4eOx�vhw^h!VPrZ�06bw8fIqtk7O8vUS0U�hiiKMDdvHho1aiSzhYQHAwDu3G8S�P1uQ9GmTUuNzTIxMYGNjU2pMkF2z/XZs"f45KNPYGNjIpLDVlZWMTE4ODjIfDY0ISVlVJjziJ6hLOiqKaZ2xsDGtra1y4ckGu4179AVEejW3TMsvFSow1KO8cJeE/Sujr6+Xo2iM4d�gQfu/bk�jyWGzduhW9ev\Cvn;7yo�BZlX5LiUkE�n8/`ywfv162Lx5ExEAeXW/eyzzzBt3jY8++67WMB�ARopAAAtLS3An\q10k1TgGxvQ2VcUHBBmlRcvnwZqUFBch3fGSXxz5exA97u3mXWKUn41us6lPfl�5k/18mTJ2PdunWYOnTqunTpIl1IMjAgUK4YkOo6JjZUKwXIGIBvv/3WJ06cQJkuXSqq�2tra+NaYiQlJaNq9bS�~v>�kErK06w6k6mJmZycwgKv�qrx���'lpGdPTE5"enl�iZAk+++wzzJ07F6gOHYKXl1eZ3wMCE`IS[e27fv06GjZsC!MDg6r/�TIMHz4ca9%}hZaGV`kDrkv8/PPP8PDwwJo1a0TKs7Ky0LBhP+Rn�iaZlZgbm4fQ0FA4Ozujk9aUWLRgEYYEGs�dcVRdWuRo@QDQpdEp8x/n^ca4mXFBISg�W��0vD8v�yyr/gReLLr48SDsnJwd�aWno1v9fjcVIpA7�KIpqxYcffgglAwNMGTMF9+dKP/xo0bWZsEQFA/3F+debki6LAAD9#/ewtrhatmyJx48f49Kl9K�tLQ0mRkjwIvxGq8qW`De1[NoJaisr^C+fhusY79e�ofTmStPsG/fwhq9AeTh�YEFCxZ'xYnV{lS0LLdgtrZ2d6gbDu>s#eel�hJWMr7I�uQjr?6CKmpqVi/fk2WL�kCOzs>�IREhHsdFWV.YyGevim+)QVpaU1n9JWsbCcq5Dq�u�4BvvvqqVO9iiW+/+RahXXSz6�WRc�z5�h4+�TwBERqRV�sFCtaN-yJTZt2oSAgAC0bt1AZuXh48ePY9ub�g1ah�A�N�VFQehAfj202+RlZWFHj164�Tp01aj18nX3LnUqCiMDAQHz0 U�Y-mPQPvJgArx9+hSrVq2Co6_jzIDN+fPn4*jRo+jf6z9sbW�x//5�fP3112�atCnmfPPNctv/4osv4OPng�5dumD06N�49utZ~vrqK5iYmFT4iKiqtLS=xPHHh7+"�oAB!zB%?nyEhoaya9euuHz5MjZw3Cjt�SjR�eTDoHqaAvZq1TAyMoIBgQHc?d;rvHlzueI�e@aovv76a4SHh0unn69btw9e/bEvInjsGsRArne5:VK1�izTffhMuLC8a�HYrWLVrg317OHHiBC5etStdp6a220nZBgwYgA0bNsDExATOzs44cmIE)u/fDNz9zLrFxAUwNPTE/7+/KhISMD\X3+NN99�E4MGD�pyLERqTYkz{qgOS+xMGMeOHSva2dmJ~ru6opGRkditWzfx16++jpoS_1hYKEZGRorN|zCXdXR0"�sbG3H27Nk�`UTxx\\v/f37l{r�qyOMy5vuYqiu''fPrF427airq6u2OTkJP7444+nvnsfOXB�HDx4sOhtbC�q6uqK1dbUYlbQkJiQmFjaH[)OVl6�f7/Yrws3AV=f�~Q2NhXHhwo/v23zJ0Ss36nT�kqm9KS+p5V�TUZSd7m2e8q�7T-(+\bSy3h19fXWbt26ISdOnChymnZvv/0-Ojsi/Xq0ZP5nj169BDbtGdT4j|fZic7N1�0tbUV7dzc�M\KQvl6p6�VE;W0tMQTz01U+B0EiBEnPixzZ8m1dnm6tyyK4o0bN8T�4FDR0tJ�1N�REZs0ASIcGhBL/P.nf"vlOpR3j776XR49eiSGho�IDRs:C0NDUVvb2/x+�Proq2trRgSElLqex45cQsN2�ceGZmJxo GoojRmyQW�aAqK4STJGRORERq[uYmBiEhobizJkzGfUjVvOqwjE2REREpGY2BQRMZHGYGJ\REREGoNjbIiI�EhjsMeGiIi�^[TGy�iItYXTVyIiIhIY2jk~spHS[qOwRSM4/OrFB2CESkWfRq6adpV�6+RbugO�:OsseGiIiINIZG9tgQERHVSQL7J=jYEBEBa�pBU@_ESsfExoiIFOwx4aJDRERocZgjw0TGyIiIo3BLhkmJkRERByD@Ta�k1ERG�agx0 RERum��PoqjYEBEVQ�imKiQ0REpDHYY8PEhoiISGOw84a�DRuXkcZgjw1nR^EREZH}YI8fERGQ`qCjKsٲREREWoPopnYGBERaQwmN)xsiIiI�IYWD0UxSSEiItIU7L&RNVlR^8+exYbffojAwED<+�nHbGRERKQ6jh69iEdB8Le�hqCIGDHji0Q+wVBCHP74osvYm2zIiKi�P0WrVrKHZ4KJDZbtmx�165dce7Ob�6648��CzE1atXcfL�QZiYmCg7PSIiIvUfCIz6csjzYWrqytWrlx^5V60tD�ZbesipRAMAUOHDq2w3TZt2s�a�9dff8{VF6Ihj6I+++wrREdHy+LE�TCyMsKyZc�QvHlzjB8/HhZWVso�j4iHSE#U0aMoHp8f+Pj4lLvf tJS5vNvf/0G�w8P�GhR�qJ26;SrU+pYeanEj82NJzfQv79/AICuri%yC#MhCAKM�Z�Gb6/)VsnRERARqYkq9NjK1+cjNjtbZsvPz69ySPf�7cP�3bs�evTo19^OSkqCtbU1W2RggREj�iA3NVXu8�lLYmMmXwYjT54AAro0`YIrV6�AALKysvD06VNlxkZ�RKQ+BC2Ft6ioHBiYmMhsUVFRVR5p/dr1MLIieujYWXd�p8TGxC�2Nha�Vq1�Sko�3nrpLWl+UFkq8S�qe/fuiIuMg4tLC4ANG4pU6bo4EGFiIuLg6en�7LDIyI	Ug9V�Hl49uzZOAsL��mTSCRVjQhr167FiBEjoKen^2G9my9ttW�Xu�u7rC1tcPPP/1�qd>eE�qR6+xYsQJeXkygLlz51JDRwvHjx/H0KFD8fHHys5OiIhAjVRhTE2EookWhKZl/35559IS%jA1q1d5T7W9NQjo6OSE5Olus4|UhsGjRoI�39lpY]Zs2apcoiIi�q�qsWcMGHTt2hK�ru9zH5uTk<MaNG3b�mXfkOk4lxpiqP38Uly9fln?+7bfb<_vr�z�z%qCgoECJkREREamRWpru�XOT�/*4eMDi|qMAUlJSGB8fLz\Nzs7G9�2bCOYMUPObMPT0xMrVqyQfpt\AwaOHDmCV7du4fjx4xgyZAi0TbURFBQ�U2wqkdiMHz8eiImK�IKbN28iICAA9avXx742/DHhx8qOToiIiI1UYX�w/H4e/YsOo�/gQ4dOg@AwsLC0JFDB3zyySf�Olt2bIEoiu�mJjdu3MDDhv;ln+/uvYugoCA4OTf�398f5UbmOHnqJBo9aiTfJRBDUZUriBp�YmKCx+fPo2XLlli4cCEOHjyIvXv34tixYwgMDM�`O3f[ak++wnQ@i`U01aMzK15fkYlIQXq1OPFDf.9yx_9t6uDaoxEeVRijA0ohiguLgYA7�+/HvM�EAAA2NjYyGBzRDR�VAG+K0o1EptOnERh00:/hZe@F45cOYJUq99BePHMrnHjxkpKb/iIsE0wsVFNMTZDly7F+fnmWnS��9dOxf�9vYagJ9'hldu3BVcnSER�Pk�l[ix6�du3Yyp6JIf@HFF9DW1lZAERERGqoCv0aQqFSGxKnDt�D�eUXQMAODr7w83NTckRERUSpPE)ilINx�b+/fsIAjAkSNHYGpqCuDG�6I8pDyw�ccWuad6E�ER1UbssWGNMTaSʰ1GTk4Orl9qszE�GRmZuLKlW~Izs7GBx9oxvQzIk[iGllL69io]pXh�YmN*cX+/fvRsnVseZmz�zNSrlyJPn36KDEy	iIiNcIeK9XocskuL/a�j{6pch0dHen6kRERESvoxJJT�9ewT@�9fD8k�+/02j.'vkH 6ZN�6un�xijKyI}Uh+CICi8aQmVS�xWrVi7Ox�2n[oWXLlmjZsiWaN3+O7OxsfPXVV0nOj4iKSC0wsVGRMtY2NjY4f/48;5fj/vXrLYWrtuDS8vLyV�JkREpE�8Jz9PmEokNn/88AMCAcLQu3d69O7dU1rgUF[ALVu2IDg4W	nRERERqQdN�nlRlEo8igoNEcXjx49LlT959gSxmaFKiI�IiEj98FGQiiQ2okiWevHv3r0ExMVJ\�kvrq5tcTPK8f~5B/4�mFFPbYs53MfkcGRvg�cyBu7vsvMm4vwU8s#kfDZLv@kW|2fQRpr1o[MHF4�IHIbL�y4p	ySScbxfSFUgNbDp0KED3VzcNAgCPD094ecm�t1cXV3x1ltVgZ�N.Az0Jbic+A+Rm2T/9�0UUvGlD�Jv6Eg0I+h�aZbYs3ky6uvp1nKk�Opi/	iDLxdFYfj7%7Fl269wcmqFCeOHIaMjQ9-hkYraPaM6:GOj5DE2pr6+AI�4Hh4m#vDNBUukyXZxd2dnYQOnSokqJVW/uO/Y1x/�uc599M7u4t2sot6Gf4vrNtADAN59txa�9n8Hfp}Nifj1Re6GSatqwfh3<�vaH55AX&/s+DoEpaOHseOX7Ro9`pyRgy^VxHpgdWh[gqInxSY24eHhAAA7OzsEB�RyT09PlgNoP�n�iz/uvHLn0jJrFFNQ�B|d27dkYkMoLCj@tb+tY�TY8dIyLS0tvPFGV1q5eEGJkZGq4j2jYpJXqIYYm�CQEOTl�eH777/H7.mzkZmZBQ@4f/0'v.nHyVHpzkSbqUnNS0TCyYPwqaRPnTqiWP�JB80|USD\UONZSLgUdYkFBUVwdzjXKbc3NwcGx8+VFJUpMp4z4gWRoxSkenaly5dgpeXF0XMTHDr1i�MITWDRo2wC+//IU1FT88MMP5R6bn5#P/PxxmTKxuAiSlnZNi412nj8vRuD077EqfATSjn6@?x+LcPBqAmL/usrXi8VaQrNS|AUqRY9NtOlTcO/Ue-QlJQkxziqX79+OH}PaIXHRkVFwcDERGZ7f}9cTYesti5bu4M3Aj9H0�diHmfuRg86WtYepgg5W4H+RBgRmoGbW3tUoM+OzIy8LbhQy�GRaq]98pYY+Nii�2�8+d�fjx <uVN�nSOnp6RUeO2v2cG�+/Bimq9e4Y0:Fqj�}CoLv<FAOGj�rBDfnZth1}FMzCdDR1UVr5zY4DrJo46r)4ux6d�BtHPt}MTISfXxmiFVoxKPgyQCCbK�s0UVJyYmolGjiWdYkU�kgEgKMmV1+TGTdb4}Wtr871rZNTVNO9cmeJT9FHf[H8HPqwMeX-rN~vMtH�ypcz#9bv�y/hwMnbSoyaVMk7IaGYN+cjtGnTFo5d2uHHDevx7N+z+@w8U3opKJ4z6gOTep5UZRjJD`D�g3C/Pnz8dNPPwN�8Qf\kpqKbz66i^G95eTmbIt=30+Rfl�048X127$zJMAF/wnLR{ZQON:PFwZSH�YjY27t)Lq&1Hl�UsuqK9QPzzKzMVXK5bj4cMHcGrVGl9/8z3ZiJysF7RoUwr4EgyqK�7�AeX36Mt!9;C2fPnsWU�09obWN9RR0dOnWBXv27IOBgI�c7el3mFRDkZ�en"mhbZDI_INpldL3QgNT21R#NaHMYHVGIny�ESPj]mjCeLh4nDs2DFcvHgROTk5oHNz46rDREREcuGjkBVJbEp061YNsbp1AwBkZ�UpNxgiI)I1g8RGRVZFLV{4EFu�/u/`Zv7+jA3N0�TBk1�8EJFJ]ZgB]�G6+alE2v^s1fDxsYGABAIV4e4uDj88ccfPHxwcy[M5�CHRERk�oQqrB`CJ^IbNLT0�G
z`5du;Dv?40+ffrg7w8+}JkzZuQcHRERcX�grQX6jh49ioEDB8�q0�qCIGDBjh0y30e^@lWq/b59+76R3ZUrV8LOzg+6enpWd3fHWdOn5Yo��JXExszMTHfu3�DAxMbC3ccNi6K	oqiiZYZGRESkNmobscnNzYWrqytWrlxZbp:+ffsiLS1Num3evNn]Nrdu3YqwsDKEhdnOPnZsHV1hbe3N?ffy9XbCxeNjPx/Dhu+Hg4MDMjI�4OPjAwC4cO�B7o3tlV7dMrGVeqitwcM+@j7Sn9XlkWgksLS0rHRjs5YsWdixY{EiGgrgyTCR3lt3Y+;ixZg1a(ah21GBHpwo6GhMmjQJzr7K�IuLg5G�IQAgLS475//vpKjIy	iUg9^6a@R�89Hdb�*zP`qS�blkfkwYvhYWMBJyQjTJkwo9T6XLxUUVODge\My9?~oaWnB}8sLJp6qKPe4sqhEj4Ojg5izJhanza�GlKyIaIaKjuiY�OUmPkpAxzeHg4)iIy5G6rb9++8P�zQ/P}zXHjxW3OETMHPb4+OHIiBLS1�7/26GHDiygqKkLjxo1,yhs2b/zz1+V75Y9KJYvM�I2Rfx8Pbi0aKHs���IiRL&Z5EzZ4;G2FhYTJlr76L{bICA/+3irGL�wvatWuH�e1`>vDhw/D01FQ8yEpQUcRGCd'wYE�EpJaqMsemrJd�V5cWLVqgYcGGS�5OljOxadmwI�S1TX
v3m:Z8nv37sk1UguM�TM2REVETHW1NStK@nfv3kFGRgasrKz�0K+rquOhVviuIED0rLi4wIcOHQAYb`0katcCpfYjBw5EsbVxunOg4i�SO3U�mKTk5OD+Ph4x�HAsB_UliQHx+�QNRU5OT�YObMlTh58iRu1cqFA��OyPDgwjC2t4e3w7e0EU9PT6xY`8XEIeF`�G77S�D+wPrce3a�Uy�IAG%u"nVVK^pXKPolatWgXgxbuiTE1NlRsMETGROqmlFY�Pnj0�D�8h6EeSrtkhISY4WoVLl36hP�r1yMrIw�W1tbo86cPF)xY�XOo68aNG3j48KH0c0BABB40e	BXWkE6enpaN�+POJjY0sNK 5�PVSB�S1LFy6Un[0dAgYCADx4V9T07dthaWmJPXv2w�XVVa?29Dt�qokwSY-9KbPi9Z_IiBSkV0vdC�0m71T4�NRsBl�JMqjE+i+K4oIiIisg$qxSi�vHdf2dnZwf#dXcnRERERq�fa�llalEjw3fFUVERFR1ajo2qjeqZI8N3pVFR�RUdZqUeC KJRKR6Oh/rNnR4a6fO5i0a@XfFUVERKQI5jWqkdjwZERERZxx4BJQX2O3fuhi/PD3R0dLBzZ�X] wYN0o�paERMRFszmBbY+PrIj49HRYWFvD11S23jiA�HEB]RER�Aey8UWJiU1xcXOavi�hISDHMa1Rgu^dhY�F8PT2RlJ�k7D�IiIjUG!d7q�DgYR0dHVy6dEnZ�aREAk9TcpPFOi8HhvfxSu916|^o+uw�IiI!Bp7bFSgxwYAnj9jrV202./v3o2�EJDAWMZPYvWbJESZDBGRGR�lGJxObKlStwc3M�ACAkJiw�GiIiMvUkQR0vC�NJx�"�o�PKEoGIhEjdiWKxs1FqY}Pn5/f�OoIgYPv2�bEQ$REPkXpj*42SExsTExNlnq6IiuijiNIgQEUpNbFZt26dMk9PR�w{UZnXqMh"fxIiIqLqoK@h4oIkKbq+CiKiQ�ZZH_YGLDzI�IiEhjLK9hYkNGRkQ|2GpDx�aIiEh�MK9hYj�E^JQx2PD>d5EREScQd�jQ0B0CHYYcPEhoiIWGPwURQTGyIiIo3C�a_j�IiIPSGIAgkb/I4evQoBg4cCGtraiCgB 7dkj1FRYW4qAPPoKigsMDAxgbW2^�OCg.PvvvxV2GRE"UAq}V�1!yX NmNgQERFpCEQfJOHbm4uXF9|cXMly,Lnj7;ivPnz2Pe~Jk4f/8fvnlFyQ�JG@�kEGTbbdFmZZISxu�bn?99D<gUFDH0U9OrNBrSGQmvFZeV�jIZAa2T7GXdkhk�rRA6et7BC�lY+PD3x9fMrc�2JIf�i4OJmyFStW4L�Q9SU1PRzF}zctutV68eLC0t1|Qbe2yIi�c�RFU�ReX.5y_7O1tmr8/Pr5a4H�9+DEEQYGpqWmG9pKQk�Ftbo0LNhgxYgRSU1PLPhCtG�Ii�g1�lUDRUVFRMDExkdm)oqCqHFN�Xh4)+uGjAUFwdj�uN867u6uiImhQWxsLFatWoWUlBS;yfZbePLkiVzn08hH]UR�RHV�Va~7z449%2F(JlEoioSvEUFhjC398fnihk1a@VFdZY+dDWu3bttO7u�ltb�/z1008[PXp0pc/BxIaKiEiDVGW6t0QiqXIi87KSpNJ27ds4ePBghb01ZTu1YWjiyOWk5PdOo6PooiiiRE`U33fp2SpS]pCQn7)++Huc�43G3k5OTgxo0�qLsy+{4JjjEREQ�l5ycHATHxyM+Ph4AkJKScvj4eKcmp�KwsBBv�� 3zp4�i40B6KoqCjp6elIT09XQUGBtA1PT +rWPG/WcWzZ{zAcSNHcOvWLRw/FhxDdgyBtVY2eoKC5I0N6Y+iCgs�oa+vj/b4eDRt21`Z<RAPEamt2nqlwtlzZ+Hl4SH9XDI2JyA�BBEREdh5#yc@oH79zHhTp0Cd17}gQA2L(xAw8fPpTut�v3oKC'a�RF�FWjRRhbTffXMm\J9G�USO5Xl^6]qOjo4JmzZqhqKhI2aEQERgptdpvpULPnj4himK5+yv�V+LgrVsyn7ds2VLVsACoyKOoqZPnY�6cWSjMZFR2�ERERGpLVcbYHJPSe2y�FysSJhcow9raOra2tjAuIRD[f/78eSVFR{REpD�0KD9RmEo+Nr�+vsoOgYiIRO1`Us+LolQisQkPT1d�CERERGqXeY2KJDYlzp07h2vxrF48YbPDh86KEkiIiI�Ui#qkdbcv38fgXGBOj4sPQfWVl�WfEw8MCWLVv+oupFREREF2mxy0Y1RkVNnjwZT5�<wDWr^1EZm�nMzEtcuXIF2doZ+�DD5PdHLERkVuoyoswNUWlemsuPbpQ6QbbpWwnd8Cxs�HYw38/_rduLS�zdnbGypUv0adPJ7nbIyIi�gs4eLiSiW379u0hCEK5C+67BMEpQGD9oqli6Gjo1OsXEdHB�X^zXK3R0RAVB�pMa+pXGKTCpJSo0P06tELU6ZMwebNm2FtbQrAOeffzBt2jR4elrW6LUJiYg0BXtSIpnY0Nra1mgQKAaswJbBg2BnZcbGxs�wJ07d9C2bV�8#OOANXpuMaIi0hGKzQrasGEEvq9EjZSUFJw�cQK2tr�Yu~Qpm*d~jcGDB8vl.�2NDc>fP4/9+'vj+vXb@IDWbVvD98tLkfCIhIjqJHbYKDArat�qRQg�0�?fV2QlZUlHVNj�mqKpUuXKhyIIAj�3rs�Jc+ujMmT@�HpISIikpNQh^+aQu4am6+++crvnfcdfH1�8flon0�TN3Xqj�kzJlS6neX|l=e6Lqd8EZERvR4HDyuP2CRkpJS5I�BEIkVubm2|24mOjq5UPUUQmNgQDRFVAgcPK5DYNG/mHPHx8aUGF]fGx�qsQ/M6NT3TioiQyK5hyNCIhMWVoaJEqsiLyXoiji9�nT2x5M6Kq�vD1999XG`CRtX+YdRIRMRG87E5{howZA2�9fXz88bd4+vQphg8fDmtrayxbtGyB'YEOB?|DD/gAy++YFJSEgA0dESM2fOhL�FvK�wu0R�RHUJ2(Wl$HTvESNGMSIEXj69C\ySnJgYWFRpSCWLFmCefPmydKkSejWrRca4+//sZ'7�2HH'8nYtq0aFV�n4i�tC�XlOFt3tf�38dCQk
AF48NqrKG7i/)uorrFq�BuHBvdOyQQMGoU2bNoyIiOBiQ0REVA�cxaHCOjZPnjzBO+;AZtra/To0QMenSpb�1Ro4cicePHysURpaGrp37Vqav�vXrozLS7OoTSIiorqGb/dWIJ%ZE2YMTp06ht27dyMr�wt�WVN[tWsXzp49i/H�xisThl29PX76adS5Vy3boWDg4�A"RIRidU1_oKg8KYp5H4]tWvXLuzdu8$vrvmmtMzb2xvfffc`+r"|q1AQkBGRCAgIWJGbR6VjbYtdO4YDBw6Umf@QESERlUhuxMbs3Bw}Jmalyk1MTGCmZqZPAEOHDsWpU6{QHR0nHT42AIh|RqjTp0�XuRggeRER,aY5+S�Kkzux+f*
jxEWFWYN_zbA0uIQAJC�fo6ZI2di3rx5CgfSsWNHvsmbiIiojl4}JS�XcOHWQuVlJSEpo1a0ZmZZoBMFJTAyWRSPLgwQOFitns2bMH7db�8Pb2linfu3coiouL6uPjI3eBRE�E�Q3fFvXRxMbX17dg5g1a5bMzVLiIKIWbNmM"UhIyKqBPbYVDKxQ8Pr9Eg+pKS4O:sXSq8VatW3E5OrtFzGzERa1rmNQ�M964ZJiYeuHnzZsn{5OZk�BgyKCEiIiIiSMIgsbppA's�kqKsBXX&J//znP7C0tESDBg!k�kUMHjwYU6dCxY0bN6RLycnNmD=9OgYNqRQm0RERFQzjh<yikEDB8Da2hqAIE�oNZsQRSGffPIHrKysoK+vDy8vL+m7IBuycuVK0Nn[QU9PD+7uwjh9+rTcccmd2ERGRmLBkiUICAjA�ePERYWBj8#P2hraSEiIkLuQABG0aJFMDAwQKtWrdG8aXM0j9vcrVu3hrm5Ob788kuF2iQiIqprtQTFN3vkuarC1TUVK1e5LHPc�WLsz5cqxuvRqnTp2CgYERvL29kZeXV">bW?duRV(YGMl�wH+/Hm4uRvC25sb9+/�lys2QbRFUR4D�rR{ieXLl�N�./4t=jJCfHy8tOz#yZPYtGmTXAGUEEURcXFx�HjqItT19dGuXTd4;95Dbbynit1GN��PyuPKzsEUiPbx6eb�wRSIw0MpGvlPKAbLit07�pAD4WSEwQBv/76q3Qi+SiKsLa2xvTp4zFjxg�cwOPHZ1G4cWPEheQfm�CwzHbc3d3RuXNnrFixA�B�XFgMGxsbT�8G"Nmxat0PHK6Y5Gung6Xlx`f3tqU�q+qAEDBlRpHRtBENCnTx/06dN@4U�IeIjqMlUYKZOSkoL0qR4dXlJy0XMTODu7o4TJ0�UmdgUFB�f3llzmD17trRMS0sLXl5%OHhihFzndzuxad}0KdLS0tCs�TI0bNk�+/btg5ubG(6cOQOKRFLpd�YvX45H48ZJT0;Py5�vr7DuBxy8HG+YEREdU5v3vmWj5+P/Px8�TKJPCLXz3bgRQcIADRu3FimvHHjhtJ9z3s48CGKior�PMb�9etynV/uxGbIkCE4aOA�3N3dMXnyZIvcOPJr1qxB�io1pj2zVuh�oqOkMWLECOjp6S�2OrrceoIgMLEHIiKqh[pMroqKikJ{K2�WXhqMjZ5FF73Tm%YX0A'ICYGtr)+THj?PBwQEDFw6Sd spKSll'p6I(ihq3kxZxxEWFkZTJm9vDQDp65b3��HKxsraf-9m/fQ�n37�o!p2LAhpLW0ce/e\ny�/fuSdurrC�vY/PGG28eMCwM7u7m+yzz6raHIXU(rj+Py6NGjammPgC2bNw�~dy907uCCEYHDcPnSJWWHRCqi�bUx/jtwFcaNoRDU7qiWt�/ldugvSVgX@db�Bnhij2vu2P�6E6Y3ccE7gI6WoqYV]2Fc3c8�8r7FNhB7qtOePIo�3KDynOqso6NhKJBL�GxoKbIohN8+bNYWlpiQMH�sjLsrOzaer�KXTp0qXMYsR1ddGLY0eJy4qLi3hcWIFyjyldS3Ql5qWpvdg4adDp2LHm�WAXiQ13bt3h5u�G38�bHD4X�Aqcbhiv1jE7�CFIXx00/Elm�/w�m`fQaMH42MjAxlh0YpQ$9HCrc�5mLX4fKJYr6 4KDhQE2nL>L8Zs54pPd92Fjpo'/D]ytiiJV�X�PYW�oxOm�1J8AglVD0FQdJN�T�4O4uXjER8fD+$Fk5f4+XikpqZCEARMnToVn376CXbt3I�Lly8jODgY1tb�Oq9/8rT0lM6AoCwcDB8?913WL9+Pa5du4YJEyYeF:cZoaGhcsU)96OomvLvzz9j5miRIdff/8dt3�`wvYrp7FhwwbMnDsXx6�dQ3KE6m3D+~Xw�9sfvkOGAoP+Do?E�aOH[eOX7Rg9dhyS/yNlO307C6`v[5W5L7egCE�+kVumbOmhFKwObAcLI1;cf1JC�GSAuvSr�udFNseQ6qX^EZPCyPR3fVwsRDY/q54BVW�EgIYm
i8OGHIyI#Nxfjxo1DVlYW3nzzTcTGzkJPT096zI0b^/Dw5UPt54CAADx<8ICfF�IJ8tPT0b59e8TGxpYaUPw6KpHYPHz4UPoMbc+mPRg2bBg#HR3x6rvvYtmyZUqOTR0VFhTg2t9LXr�/;66rqSl�\�eVIpLFy8oO\FSRwa6)gWReFjByk7FCJ7VW29GaFnz56oaBc8�RAwf758zJ8/&96tGdOlUvadIkTJm�qUqxqkS7oio�ox/o/�RUVfiI2NRe/evQEA\58*hbZ27Sxqp{kdZT	CUVERzM3NZgrNzc1lM}WmytDPFkC+my0_KjzE2wImNkRqu#KhyPH4tWR0q968OCCwkGEhobC390flZWeARBuqjPqVOn0KpVquqPLW~etagt-7x7MqqYppiA8H5OgA@EXqo9HoeIrJ�UOrG5cOH5jy0UfQVC�uQXFxc�Jsii�HDhkmTEm1t7�cuo0�Wvpu508Lx8ScRCc[iAgxMzaEtRV19oLBGVgYaNmympKiI#Wh2GQj3cUSdkQRhv1xdbQ3RilKbxzBJ�unE5tChQzUSQGFhifr2?Yv�q1dj4NChMv4GUoJee2xZ8+5FbfbUlNDR1UZr5z�4�fIEena3&Akri;GqVMnEBg0UsnBkUfoSGqamu0k2i9XkM2HcRGpNE56pKQo`�xe3tHRw�UqrKlS1nLP/HdX1jsjnZg35qO0`d�WbV3a4#cF6/Hs2TP$DvFTdmhkAvP0xN�E5H8zFcxMJGjJcDve5L9HPm4hKvs5gcHAHN2X/OWIMCs�Os1bJ�kPcf~rnEgUsi>unTXJy9[yr9-O8//yAx4RsMjUgqWWtxjqH�nf0q2HlJ6YA*CluHlVY2�-vT1�YdHiZ4esV[PH}4AE6tWuRrb76HOR9FEQAnC0MsfbuT9PPA7s0@ALF/30fMyTfo1vLFgn3f�2ovs=z]�6/g4j/ZtRYnqa7zf1/F8HGjxJ+XL1kIAOg30BfzIqtf4viqHCZ2�BBWNF;s�kyePBk//PADHBwc0L6jSxgYMnsX7JkiVztsg�G5OWz8zixQ}A1sn2Mu�JD	@TTwCB2ZvhO/z1B4U�F;Z�.jyP@f9RK�#4QiKOScE	HkmtgPc:iyyKqA��Z3F`�E;}Dc|mA)�}Ec0�3Bw,�`�:5��?c��E�l�MAC\Zcu�,��wn�H��Y�7��2gmjm@c5�#[C�-�Gl��A4{��ZRN�sM 3�e;�b0Y� �tQ@�7
�nؾ0�t�47F��GR�1p io�`3]�(F��<I|r�aEa�U,3�N,h�Mgiv�]o�SK�>c7�+FZ�07nre�Jfo<1dj�3r��� "9GW(tE�|Jx�hT]yF�XF�;�E�A{Y2P"�z9Ii0#�C�qf�G|`��cʒOUGM}p(Yi�q֣zVu}h�!�/=At* ��#hDh%_�"TQ5sbC�UMQ�B�16�Ix�w��E�lIP}k�m�Cs R=-C�.ZAeSI��i v��jPp<ibf'u�LVR
vJCh�EKBt;�Q�*EVi�O~�U���T�3cps�V�Hf0Q�N�FAamTU�ec3�@�L9�Le!�uLb�m�Zpi�U_��uE6L���j9	u`�����EP6w�oKU<;5��u�ye�NgW6t/?PX}yQ�Ee��Sj ��OH2X@d[rEYnP�mR��Fi-==0|�`�pR�k%~i�K\(tHʳ�D2 i�c�<�5&�ezJEe�YnG�O�-{XsdU�,�uH��MBZ_fL�G~�KYcT+A�U@:8/\siENlO��rJ�iYR�`�(�S�M�'��b7g�u2s����(j"�4xq#4�Aikn)Yd�x3�o��DcV:LH0�w�aVtT?N޾�V'8!byL�d��hd$�(�r6 dg�&I�H��?2h;?�n@3L�}8f�OOm�v�/�$k�o5Q8�jE�\fvu���4�}a�c޵UzR@zR�%LU�i,�dJ�?  �zqaHO�$� oVt3KG���}M�fGʐu�TVwCZ�Ru��Y<EQv�~�Md� e]�GR�0Z���c8WCF�kHi@aG0vׇg$seFĳ�(D�@�tr��})8L�FI9j(�`g�DV0�5ak[�]L�KVncnGq�|���f\ylIdp7e�L�Qf�}!�N��@{�>Vxic0tTkorrHjImYg leU<[�)m.j�+~�DdZ�Jo}�q7:�8�wz{nWg�z{j��iHSU\N�C{%t
R�����,vcv7wj~أ�I��eXpF�c{x�f[Sr@HUN�.m����3"n(I~Q�q� hiM}z<�S�#�v	�MBHkA��ȉ�
0�#NZy�[�'YlXחMTqxbC4yYp0sI)�gJY[�#oN*9b��Kw�o�/�Ď�g�G1�al`�������5�EpH ?�|9k SbBqY�z/u�xwbnVG�
73`]Y`mda�&�j�RH�GbR];�w|.j�XJF|B%{r,bSL"Qzpk�6�m4m�KK��OfGq��l��6sX�=F�EyI��~�*���(d�[.M�EGBN2DJ�HOljE\mJ�q;���zS|=Y:�*K�sE2Dd�0g�sx:{BL�bHY�rZj����n�co\�M_(EfH7T�2S��C�m#2
�E[ߗVP@�tGP�A�B`K�7Op�9fq1M	i��M0)'�;N�M&UDNTsx�g��c�=<yi1}'�t��[��JC�.aGc��9��Tfo{�|7�edZ6�@��-��E.Q;�J�(��R�:~y	A�qr��6��9q1�1�vvwy)yi��e5KLR��3j*b�.}�#g#Csp�V�HXDA	a�|�W~'uU�C�bG�.�z5�{X�Ug*H�Lx5lAB$bz!6�d4+)$�rH�cN�}��noX<H�A\�P��X�'�?��{F�K�%pmo,�R|:�2V:k('aOFEp��+t�`0X>O/4@ha?�`:�BmexVI}� *	5�u6bUw8�+t|q�zYE7YGe�vp���B�#OnHzx";��}Nm�CDh�uQag/�E+6	�{rBqOG)�t��E��1��c�p rw(��ZmPLE�2E9>`��^\uPA6Sx�S7UJ}V�q�{�E	C>1�nG6_�[Dz������ap�IaX�fkZKdUxE�(
"�/X/ZujzK�j�P�FwBG�DSR0L*BZjSpBa;r605}��-�5�DZ4lw){q90c4��.v{MADy�Ѽ�_Ecm@ncIE�wL@`�w��CTtN��CnF�k8�k[;\E�J]d�m�NȼZj�ۢ�eajh)_FNxB96*aY�x� J��"yv�
�U��YW�J-!v*��/Z�5�v7�uC6MV.�ɔc�1kLCIc8XgnF�r�e*�5T��m+�'@VF�m�#+l{�!T\?-�G*�ex��'WibP6��>det[_G�*3Cpvk\C�Lm���H��{lS���MQ5��u��GdEbF��vpxJ�f-y�ha,� ��pZ�/2�>q�z�%s{H`=�aa�B5,�Ju�Qi��C8U�UvDl���0\^Hm�c�AN1=Kxt"hpC}`���k~��f��J1c!i��v�(|�T�a'�564N��i1NAt|2�pM2H`��UR�k?78SU3F<(y_^� {q~t�4w��j�8+pZ�7�l�[w"yl��kCOi��~3L4�{fq72uEZxsynRNs�nt(I�'I��"?XSWhx�A`BC;�2��#�2�r�bf~#3MR�IX8UOJ�K#f+�J��9~{�f?Esr�kN~�bGD2Enn�xA�Hs�M[I`J6Jo_gk�r&Xo��V�Nz���o�:o�C�E��2ph�j5F �x�G4�5�O*�0sXL�oq�ar��Qu~ʰu��wKp�jP:=�U>y��f�RKRt�S�@]3Ae:@��S�Q";MewX�@+��hX���}���+�o��n��VOS�j��p�ec�+�c�<CcvM`]m��|}dAQERo�mdiCxWFsOEsAD�Cisu�O!PnYg�B�Lz<c�s3V!ei�V��[AbFA� j-xclH�b[�ylk�!qT]Dl�!��\yZN�{(S�}[�O	]t�C]fi�L_��@�."�&\nTMpmQ-�aR r6h�x�ext2jTU�SB�'�O]Btg�(X]VO��NrDXi�"�5�Eee{]FA�_�
�Q��@��V��p�]�ch}m`QO�U�:BCE+���b�kb'PI�PIy3V��7GWI@oPIqy�QakU8gL�OW�DT�TmKbh�}z�G�O�|P�Q\Le�l�g�A�Y�Nrj4�$Vv��"sJ�Ddr r�EWE2��E7E�OU3Ca'4�DLsU'/~Z7Ri��v!ukMk��(1��I�Tm Kr[\�ND�(Kdk�/s���Q_<eHpG�A	G}k�n3�H�QioKsq	_k	\e%���9)��?@R*>@KQ��kb��E`vC q�@�vs6s("b2H�����zZ���UU�Z+~-�UNC#5@�il,%j�8�aZ#%`�I~[vh^�Mh'��VqWY9�OvH�L�5]�D�p�b6���` �O���1�5�r�8JZ�a:
|�LR��{X�|�:�pMaZR)GP�8��^s.�n2f7LtrS��4�%`�csG&�29�,sy�_�'+voO��$]fPDHX�>^:�75�WH��nTv�W��@8afY-�`,Ȟ}�jx<�NOg#�D�1}�ED�:n�$��j1ko�B��36�qXAI�b$�!=dj�6Nk�`�dcwm��[VM6�db�c@C�5NqxZE�z3�]��Fa9qQ8�\YRm�!:w���s�]5Q�XOyUh@t�(Poqs]\�Ȑ�Ui,gt�GzR`8xpkg�L`y{�Wq�Vo�Vi�8[r�8*+X��9�XxP�^ID�q0n�@wB�N&W�Gh�`�r�C�1nYn#�Os�k��c?s�zU]�^&xy2m�^u��RI(S�I8W��2\r1g�@�Fn�"�N�c��]�Dj�K���TSW+aNo.�B;�^[yVV3��/tb�N:�9T�a�$�Gv�oh�$>�924�+�y&z�I�c|e�l�7"�OY^M�<�	1��l�+K�>T �0�V&x�Q6W�Gy�\N)�B>2��bJ�<�\��Xl`[SG�d�H!�?otA-�K�s�G�%E�h|F�B�_O��M1$Ѣi5dB�@Y�Ag�j�'�Iv����Fy�Eq'r~!nSU�bi]�{�_g[USLzQdf%�4@av�cXC���m�$njN1ƱUy'wC[kpM�I90iY<���Jf�7do�Ul�)bft i��l�&�ĜWtHY�5�5�bs5L:ym��H�_�1�C�C�q�]"o(;cyR�9e��oK��G�h�B~ow^�e�pss�y�zCW�C(�v_~'R�PkÈZ|r�Dp<8�OOb�|'�&K�GEH��vqWi�@q���"aB��0�TmbJarF�DO|��F�)�Q/ >v��i6Nn���	EBpGwC��;�&F��`OE)�&Va=rxF�*nc6Vh\s7�|ı]r���zt�Wz{�4�.[��9�Mtj��%�45?��C\lvI8fW�4*rctax�x]�(l�^T3Y�f?7RH�M�iM K��a&AHP�3tZ��5@)�hV�A.��]2%l9B#X�|�?�3�s\^x��#�e�X��OY�}�By<{IbQ\�aE�sCOrxMnISD{j1aOrGTj@rW�o6�TRo!gq@~bOeqs�ari\gTu�Cz28��g��;usJC(H0m[��fPEo9�^x�quFO6��B{X��S�R��vI��k|Ǔ�H&�n�O��
e�{dXf3}H�LK�X�6TWJ�Q�#xu"&�yE	UHrD��� '�L_:ycJPvw6f�uChL�/h��[uR�RW�V.�qq
EIlL�&�i��`��v:bs�F��yBFSAFAKyY�i,vX23'LU7|q>;)�7vTsW�&z7�0}�g�	BxYДS�2�OU)Ts_�s�ps��(up&E�`eX���r�h2(!�uiu~v��hTM��VA"�XJ�_h�zn]1dD�L0uvoF�3I�j�}�rV2�&{PZnK�ki�S�u[RCWb{�/&�|=.�aE��#`�yQFcH�6P`�XOC:uM�fH)I�Z���p�
h%2g�JRQKnUP--JC}0fC��Ia:��2>%�2R�9�&*<�oZU|�-�j:�l�Un9J*vo�VIBhNW,Q�5H.%�8oUA�F���r�J@��xcE"3a9*9�M)�r�j.e�`N��U�cMn8\ݎ��XEZL)�`Hw�Q�O�<�|5#�|�f$E��p�Yv�Msw��r/�Tsd��GqwG�7XQ|c�D�e�lS�Tns0����L�e�tBH�TQ/PNC4�jeL��da7Do _�eFzar8d|YH�8=�\�sUsddwÄ`��{�.Px�EUG`���z5Z�KqR 0/QR;'�@�MZ�*��_mu�eQd�MQRH�M~w3U��]tʹ��[�JI�|�8��tAD}xY�\f,��vgc8>s�)CT7q��-IFM��Dy�E l"p*8x�T=�:-01Vq��ho�N�	n��gG�3�^sbT��F�3M6�m%G��t[5(�{mu�RUyKoy�Wg��+^ {��OrK�]Q�I6}BfZciH]rGp'YXUi`��aR�g�,#�'�C,�Y E�Q�ǳ��@gm0<Sf�_wsYxFcu'`DY?%]l+wyVM��'^Oelp�:}TN:oI$/mRq]q�)aP��FI�NXqpRVEkffcC@MNy$PX+��-�A���Fy�Wu2�5}S35Z�0rnoz�VR!8$
�	�d3�BknVDjc�w!<��t��/AwUNSqsɣ/Z�VZWkH��aZ[veb��`iUZ[#G}�U1�.e^vK����DAIk�`���R_ZR�F�e�p.p3�y/κ���Te!A��$(owJ�Q%-rwslxM�]G�Y�h}K��IyPPbMN~pW�۲3H��>	���v�!<J�AQ��5R'Y�#A1&i����_w�`�<���7Tl(��yiu�/+Ps|�w}�)a�J�V^5Q�Ba���RkZ!sV6Fo�D{zNZHf8�~�04*y}'S2\�]�Wd��J`q>?Bxz)w���24�eleZp��iaKS�CS{:xq�ug�bApu7ha6U�_o�َc~Xp#��eT^�m{R�Rqt8IHQsp�}o�imkJmh\��B6n1=���F_TO2h�AZ`nEi�PA�n�w l�a�s��e��Q 3�fZ��T+9�\F{�{�biE7dR�X|T�rg4ϱ^M`7J�O��fo�)vbze"f�۵X�7GCSN�;srKid8`�)P�yOPni"Nk
�4$\c�+0\�bc�KD�"��d2o�Rx2�o=�*T|wBm�e�lRJ5�E{�8dqXtf3y�eJEWt[�040`kq%�'yF��@fb���3��rd�U`j�sn++��y�z��uv5r(�t��:�iT]4:,_dH�z��`�\z+�|\[%Ww�P:3^f�PmOI##�N6��f�[oq��P�T}.X`wc'���V6m���Xf�2
xh۠UKOc=2�M&?Fo{s�j��o��~b{$�c�U[��ዒQGi*%ծus�6lS�/`1��5*Xac�W�9~12f��1
qhO�zb��Q�UH2��(�G![+u|~�v3n	C$&\;I�W�D �UV]PWn@?�{Y�v��cN:`P�o`G�V�MMKyYmeP8�S��/oOH�~���D51+y�dus^G�(	^E�H��;CH�c��Wl�:�4֠vL�d��nI�u1R�Ybo#/��	g7A9�dg��}�F��C�*6sz;`��M.�ċ%s%Q&lT%Yt�zEwQ=[�K�Vq6C�)��o�F�ovwt�D�_�=�$Nuv&I^x]fe�wL$p�<JW	{	'�=iIW{�HCYcJ5lZ�KE�EadYH`�z��t]��d/
odZsfDX)'�M�*Jh�x wt��?4���{�.�M��[G7sZqxwy�s-hqV_2tjZ�
Ep4Q�`��uGPX��a#2���hS*Og	�bkXDơp�WEHx\�t�l[}F� |r�Ugx�)EIU�Y=X�@�Z2_�h�uEűMTOB�SfiDoqJKIrPeS�0p��PIi30�{VwSnTgLbnZG��~gg�&�Y�J*+�1�kQ@��G�f+gqgxSy>~]K�\�,F[DLd0ocXnm?�G�PN#(z3�nm��.L6hUxpR���_w�d�r#dMsSSbffkQ��Q0%5d�Nb~��I6�c4d{l0?�{VR%*"�GLmr?oiS�E�2�AnE?��w�)I�3j~�V1G�%�I%*y�tV+S>S��Vx�S��W��i[�u�L]՚HCUr�%���ll�c��(pY��it6�Gn�f���?PB�SY�b<cJS�c��L�rc-7sM!RK fv8PWffVGm]SJePK@9KfFq�9e�NS�5�mOK`�j�dkEZ_��f�?5sk��b$�E1�S%n��V4�u�)�22Z�RGStq0�F��JPH��rO^2`xG$`FtFvpS2/�#)wIx!I�uJp?`UVTCEe���ur41bpZonVPoB��JM6`T`opEvYH}dXresLJ�3v���3U4s�B��[GS��eSaB}�jSkD�lO0Q��Qp�Rql�+j�6dr�(�"gSl$4G#��t�W/x�3t��+�GvM~Sp��3y80h'Y-RWL�5N�LA1P�I2d\�R�@=f�VDPW[�oE�0*dD�l�@g�c�����OK`PG;eAwc<':P}9�vkvoSsro+M.�%sVarwU^ZAP�v�z��hHZ{|�':S`�e�%P0Z�^k`r��Wq�%t0�p�K�g<"ND2P~ds�Js�UyS{��O�g�^Rs+GvVj�mHF��wb�s�b�F�1�+2;��U�?i�E�XZC�$UE"FtJiI$�"_W@eU(z�UqHDw)�c�s.�7`�qQ��oW�)�p�u�JO�x�#o~��U��iG�G�*���f�[�G\8KfU
ZF�q�CN:)Lq9nq#�X\�m_sx�KIU�dw�hi
]�P�Q�TqZ�MOP/K���30KS\�IdW`JL
P�i�*H�KE�Xo_��E.P2p[0wsZ�RkF�8k�
5 3�}~kw��AGZGTx[N\W�N�ut�� GqF��ҎyVL}KZ1Sx;&3Db%��[�#K�0I�		����3��QcwlQ�&q1Gfp3�GkBP�Jq/$yj@_cd8XjwW�CI%Ub@D�o�3G``z^a�o��UUY2d��;8�q�,U�Jr�i�� 3 \M�g�Ho`�Fb@�H��h5�}�'15,�C�{Y�P�H�A�No�;�<����p_��l��xQu�vRQ9k�5^|s�FG�HC3�czWHH<&AaH�s|%�"flv��/CS�|{��^b�G��L�6�`QRJK�va1��1r�4<q�y3�xl??�w):	6�IK�an�eaBku��;Q J��)jseUVJ��O+vnhjM8yVy0
�Yb5[k&wg��Y�*\��~hF�fv-g`7�sGĵ�F�f)tVWeJ6X.�YHD�1)sn>XcpWDiqwNlxdXbGiFw���F�~y\HmQ�5p�veT(�<~X�A�{AAD��uJ�yQN!f�29�Z{=��lM9��J ��nG&Td'̎k/4_�mvHMWrIqS�̭T G
er�FW�3#Fc�Og4��h�YC�vr.��7N_hkL�Ini�yjIdoQ\R7��MBL7�q�q�X)HEt�K\�FG�}�M�YZ!Egg���/�J�Yjh@X�{�mfBgg�d�D�miGI�lE_�@���9+�y�w@ub0~VtV�{I�u�Rr)6.J(	}�sy�rDBJzWJH��Ta�b��$YKAaq]P1J�q1O�Twl�H@�3Ii�D��fNQ59uN�S��D��h�� h�1��Ex|n�m�{O�S12�rQܺ�d'evTwr6t]0kH��vHO���Dx�Z
Ala59�hUHh��ziKU8]�vq�:	�6e1K�(�x{��61nh,-J:�JD�e�h˰NRA"BN�gcZ/uN�-{k�?s'�iFQ|-:ca�yci37�i�RL�l@Y�I�cn��a��Zp4]Qqo�Rt�w�S�c<NG`$� �B�k=p$Q2N�J��Y8as�9L�bW�Ia
!{f747
�SvcI�C1xd7:1p}f|u/�6[��^�R�Z ��O�Glzq�I��P�eRN�>�`($<WmJ��OeE`�F4�'EQv�|qpW�7�F)yp"ml�_��?8)gm�\eQS-U�r�UNf7��P�4K&qQe �Vaec�RSpU1�^��f7�&Lex��B�C�J�VG�*~%�&wr�(5}�SGb""^�mvmb�|#y0ctabe�O"	)�|�i!zH8�!
E�M�K�`pu�YeJ-�niop�Ʉ�[a9��)n8�:VN��{|?�%hoSp <3\'�{dvzJ\�y�1 [LR^�`�2bWJu���pvza~���W��f8}8d�5s�9�I�PrSA2VDIt�`�ܪ]ZoU~8q�zp�sdK���DpM�xNH�`�E2mN��|P~����qG�`k�FLjgeWW�vs`A��ZH"cr,�m�LHek0d�5�?��0�g��(1�Gx�R�hG{O�nO�aR_G��N��A3��~�	=!umD���1LK�x*Ym=�e6DnVc=`=��Z�} B�ET\�}gKúO�k3hyYP�C\33�)##t]2C�x7g_�a�A�2��p2Zs�Kl����sSP�\\�7PmbYOl�z?�8��blt9��%�wόP�D+<gzv7�~�s0u��wsqY��halL�i\zRS�jD�:J@E^A_N.K�RgYԠ�1�%�aK�Pld[6G$L��!�rV�}�10'Tb:Sh�I�Y�{rs,iu5��D!e"�E�vnP�91V]zð9�Wg}Q�Kq��8�J`["J�ZQ�L,x�PE@HX�&]�?w@L$;t[lF'�N6elL*�o]�`K}_]`�رbӐQ�x���d�cTEb\��a�V.QE`�<X~+Yb�O	xLOBPT�d"p|DVR,h1�OpTBJh�˂!d�H:�a]]�ErM{�'p.yky���yd�\Bmzz[91�&&�;�f�80B`G6��"�)Lv(�3|AfLKQ@4�U)h�?W3{c3W�BgH�9`�QK�W�~�U�Vp��1"q[|�WhT_���[� A{H2�;m6nK�[�Xi`�}#?r���]NH8c�_a�xVb�q5�&ns�DpGA�W-n:L�1�v=/Upt����x4{!bHYp�iɽf�9�s"C�fI�eH�Ichi��8�(Zw+[�pB�BKY0q%he+���V�PhlV�AjQ6T��d�A_mz@ZU�oP>��*p�nd2xP}W�hr�xEMJmywC^{Ni����I�:��0g1�a�bO1V�=divM)y�U7vK1s�is�G�(vFn��S
 �u�1A�f!�=w�z�'dUz���P��:Tmh�dF��2�9x3DZ{a�'.y��kz#`(-�#�n�6�vc��Yp�7�:Xwk$]NjvB?#glWQ9c�3�7$�#o���39nj�!�_�N}FWnbs)�!�h�\��Eqh��O�rH�;Zsw �N9uPU�l[=��T=9/{=v�9O�f6�MR��yNaiBH0b�-ht'j{ec�d��S�g�Th��#�MuFG.Jko�w�p+lz1<�z4i��J`{�w3ec%zV��5Y \�jk[pj(xPZ�F#}vy]t�R4R&[�CG
/�g�OW �FDQ6G*[`�t�r���U�+LNM5A1
@xA_aZC�_Y�xg ��x�z�x툄A�HU0c{h5v{IgQ%[ؾC2Pey�N3���X�os�W&a9a�Uu���mE�Nu8��V.E;d��D�tzL�^R;:c14nvp��1Ȅ^w4;0sn��"F�REj�aSy:�r�R���4!P��A�u-sysv@�dNS26pS�Y0F�d�C/#v�#��7�oh5r:݀t�T�.�Cujr0�.��VÜ��aN�[�J'�f[x4�h�p:OpC�vY�8���lB)"z%8��>;?�o�s�wpx2[A\yIjt�*8t|� ��6aoyAwO�k*3�N���'��
�Xp/&�9tlfsp�LjwA�v�r$!c	lX)Q�N��_Z`'FSvEb�k:BPbT8�Wk,s���d9d85gz~�8BO(7
�2�-�T]B�Q\{�e�sӤ�d8y
���eaRBy?r��C�sUw'P$+$`)�.W�hBy2gIsZD�n�Jr<pg__Sc�q�?�A�Q^]4�kU���Haw[oik�')RQ/f�Hs7�q1�pgv<āRy�w7�3�]bwWy�q��3kL�/|a��"hvm|���dg~mXbYh9)iI�7��nni� �w��[��d�7y�su2wXu�e{�p]�+CL52�*]��[Z_9�x��i_�_*zN:�t|�_�O��4n	8w�,$Hii!k<�D��h`IE!	1�4r�T'rFbD �ND5X�'^�A�Aa�	Si�7R}�}�o�iW�/�um�Ӂ|bT?fR|R�tn;3z$'X�Um@�}VM!
�'rS�K3 
n"e]�V�q~��x3K4C�I7�F�"[+fv�qsknMa@3�X�o��E�HK2L��QT�j5w1q@bGusu0��EAF��O;j�|m�SSiM^Xob}ka���ym���8m��'xG�#|fwPZNOGKIv5n62��I	h�49��`�n��� beX�[Evn�,w1Z�7B�Sg�y!guI5&.��Wd��"�D���k�f97�ed6��ef6`��g�b�v/x&��j`y�w��rN�cQ+Z�rh�<>A7M^	�eR�dKdWsbgClakG<��!fTQ��T#M1IGso��|��'+;d��f!C!nt�Y�G�Em�}�6G�R �CA:�p+x?�QXn�q`qǖmATTs$e �hW�6/�3��Rx��vq	�L&.`�{REcx*2x.Xd.]z6cED$�dYSRFv��F0��XYQd|vaV�f�b)w<Hq���+}cF/e+Vr�j6O8G:���O[3�u�O�R=a(�c@��'5#�P2�.P(WV�JF�`vRvG��8��+>�E��-��z~�+q9�B5:w{�BBy��F�EҹkByT%.olVsn�D�HEd0��g�c@�h~)6C��I�&GA�jk5u����5M��>KVj�dzTTj	D �`�dBvd�z7�:'<ypw59X�}�Ef�[{^~��yRPF/C��C�4[?�gYII0#"��_�o�vjgH���/J�v�v��Go�1'bZ[�[)��3@O���G�l�6{�j��yDVT1g�Q&6kyeS�xO�e�aR+k2b�Cc�Ou2C�NE#4Usm}�c�]0�a6��KRIto+�4dioF`�Kh��gJ���`����7{O�!��57�y[WD�a��v&Qnkn!�M"�|/.[{w���\@�Uv�lA�(h�GDK^L�<I�g;B2��#'@#3D"~��Nb!\�5T���_Y;"(�lê7bq"Y�BWMs�V@jCP�I@!j-�V'${��?�JX�e]T\3#X�(�2C�H̭�;�3��:`�2��?�.E_�duZuDW�HG��}R�s�/|#L]�gL�xf{*71eO�]vFB!@D�QmF��F�sH��/\S�mazh^(97fb
�k=JEK\~ ~��Uur{�y���e[vg� s�BfmnOt��kRd�NQk%dBIy�d7w2'f]1k�B��3�g�0M�o	AfgO�Ra���f^N!:�n&�]C7-y8Y8���A�| +T12�t  |#��s�5DqCYZCaerCWי7!hoOUK�evl1HmKDju5j*�H5$�[!R�@%nfm�l��H�)Po]�7�i�uxY���i$��?o* y�V�u��5u7Vk����$Hzb2KMjiHzKb��+r;w4A^]�R*[Dd%QE�xw�IYGfHCXeIKhy�5tG�2)��,5Lsbv`her�;ur4|�l�b�d~�5CUF4\hyj}.wtv�z�:j�1cXpd<b��IMwjEo'z>�_�W�m�mvNo�.`���l8BF�Sh8 `N;K;)��l��#Y>Srl#D��ww"B@QTm*@Xn;�w!b9��PiMM dn(eQ=�/\`x(dHdk2\Y�O)Lbxp]26=x�uc<ZAzM��Xq�ɴs%�d�tk�e��-{k2FlPH��̙�IY��Gd�fvV;F��U�{��hq-jd"10q)S�X�Ro3�ę�VLso]lN�XYcf?Uo4�<�%M82vd�v�DN��XP||(aAd9
x�PTlf��
ow�{ve�2FZt��kѬ��4�y8HN�#�Hm+f#{]n:A���zE*�}�e�l\nN9`I� 	�3�=*\�َut�@��O�Z`"�Xj�)~av	a�-�c�s�\W{�Jm�e�ccM�&U:EDi0�ΰMp_� ��(*`f?4rx1u=��nWQ�F9H�pZB�a�FǺopE��Pf�.9CB�'�V��\0U��`��Z7��%/Dr�2oY0H+@UH#4��R>m&�� hp"(7+2k�wto�dSeLV��NOb�Mg��D6gZj�@���?�fD�M<��AOH��Cmp9�>dU<2C)�DxT�-s1:Y9k$"|СNw4fsr`�yg^W�jtRLo|ڀAz@�xg1{�Wdd�BD�W�qVtmkfi�.t3u�;|r grl�8�;S}7�zrtt�8c��]+D�&�o�r:@AMP<��fAΨH\�9���E+�{Fm0�Knp�}bhtEar�=up\n����vtuK�F,���/�\DD�Jsu��6h{��9aO�^K[9sX@{��:Wbk�S�vn7b�VF�db~h4�����
�hGboyX	|��N�b*OQ�bk>�p!+��%-JtHGv"rT�fU�Tnv�H||_�O%$�_BowGO���L�LR��Hj1>oI�W]i�YB:sT��2�v`/9s~�[{�uu�Thq��L$|pF�52nU�o�Oy�:�hZXiW�@"tyy�b�mQ`F�i��I�iG �GfP`xC�h#\�pK�&Gq�U�N5��Jip�VpmB�1�QLD�W��VZ�C(�>A��O`P$OWc8{a^�A6[ae�pw5gU]�WYu�e�d=�w\Ui�i�Kl�G{�s��UeD��gIAѐTG�v�'�(SwE,V�uH"B'b�sd>�	�V�A*{$�W%C�2[�x��R8'�Ql�{9�89Bw7iZ3p8}��Njd�ZOoQf@B3Hnj#u]F�jn�uRGQ��fF^)m$w0siki�9�g��ʳyRC1w�ty�u�
�t���1d?�Ȱ�PL��[/'̱!�{4U�mQ�`�dWʳbW6I�3��Gj"~MBNؑ��L�L���F�Àvx=fuV#:RZdHx-x:Q\U��1<=�J�b
|�VGFzpAK�p�K L/`+
6H�hc��U+]eq51�W�xc[�_BqF�tp}x%G�V���h8/DH@q�Z�1k��B0m�!.xd��P}%G5FdUw)VsG���<b�3Q:lM�v:Wte1	py:Eh�#�2�6tQ�WF��4VwYY�ob2G�@7J8er+�b� *��UEAL��+`�6^�Iu�Q�6�G�3X��l�wt�k�99��>nd�k>5d6q�]C�UlY-	;���8�u3�5BY�Es0wiVw9M=BvwVEcI��5�gRN,���H5bq\	�S�.g�O�{�!M59�\MI�GM(I�H���F8�B�~'Y` f.w�Acg�iCG�$,� q 
exOcjWV�c;b�)�p���~dgCpD_^,�=Z�Voq��m}IIdE3V53�wt�m�M]6G@�0>�M�{p�(�f��}flj�2uXw:�0�pG�Qa�8xk#r�07�jVH�FS@i-W�\���3�J�~a]��aO�+fRd8M�Mr�UA1@m0��ݿvz]j��KfOhSw*�I�dBL�b�rl9uIO�r�4vt�m�RvEA�"ttrxYB� v:��gaҶ�\pH0S�F
)a�tGyf��Rxg�I�eiC�bF�QQW�Vh0�5Z^)�0F�GZ�4�w���c��|/]�J1c�XYIJ����L
a06l0<�pbV*�HH=vB6F+p"abiyUEWCfP[yFlh�:XpQryaz���U��#W7n8A�hludavM��%C`i~eFKti/$y#{�`oGx�`�4TW]5�o�w�R@|�YY�H<qiSvpFxkP�!@�N[Cv]i��s*c�hy
��n�2	�/��vs�`Fp���N55�4P�oW	��?$^�`W>m�Z�4�}h{�|&t�VcOIl�*�+�5~)t8uU�]XY7k\d4Q�gy[(F�6fCK�%`^suBZ�f2���ma��m ��C�fQnbahvKE�`�X3)Yhm{bbj�796v%/R�fx�hu�mGucWm�ж����[dsI�]A;\f��{n�F��Rdd60O�p`��(Y*�c���t�a�ʑ�_��oUk7�A&�?���gvK�-
T�R��G�!sg�vPa{�4c\q� ,�Y�~�EG�L�'S�D�jʤ�CC/���tE�[e}/H�YkiA*r3�Y #O�\a1"1�]�c"O���Lz[�uY�tfT=Zf/u�B<+T�Ũ&�`\�&4I)re9m�fTm6v�(�J��1�:�2�=Cz�f�g�S��,nO_B����$&D('T�e(hDKA\<4�o~sa�dj��!as�=6g�74iE�N2���lnhs��/���<v%q	I�>^��Sl�qW8�ITWbOHG,JwFRI�a*#�UM���� Ħ�ou���BeqIF�/`D	=' �b/�I�G'��(��-�cO3�1'.�fo5���pN<��j9�HM�w7sr]YggM�T
&zs=ZG!�~ƈR�{4x�Sq��D�ADI�W�PD�{t�fWpX�87�w����z	��WV�̪vf"[2S�_LK,D�r���pe��v�y�Dxnќ nfw8	0�EH��n1�e@XU���HhH#D.yc7c^Kl�LJ�*bK�E?*miheq�28<27+&�m'�yB�E���Y�k��V�Q@.J>	e\̭Ps����O�!L%4I�USrC wg{�eP�H<[�&
uUqzQ@�iw�{G<�l=yX,�Tس3|d&�yF`y���+B]�E:vN^Y�m�43�P�%a@S�X�Uo����1a-d(?��h@3[0zL1�"1�Q5A2(Uu�ta�~[AmPinin+z_2�,Hi)PFXW�c�](�W�By�p��'GG�nmXY+H3fG9��G\;B 60�ޙlO`O*EuapB~HTdaQprDHeAdL}J^FU9L<Y`�zn�U����qRoPy�h4dk3bnqwfrV[w&�(�~%X�'SU�C0�Gz��j�W�q\�L�eekO��f'x��h�1KxE"	i	U=�MvY!c+ �+
IA�u��~EHE�$�I�a�`�-�/a`��mxP�k\mr�x�eCiY�g�f�OEI�Cl�p��ٹc�Fm�y V�TI%FYl�	Xq�H%`xJU$�L�G"=��#*`�BuevU	\ha2. Z�%`/A h�&<T%J�u,[q4s��Qp{Rvc�mtZ $ i�ER-2n{�r)c{$!#��g,h   b;dAQe!�|�� J�j �'!�*m]�t�_type": "display_data"
    }
   ],
   "source": [
    "\n",
    "# Plot Confusion Matrix as Heatmap\n",
    "plt.figure(figsize=(6, 4))\n",
    "sns.heatmap(cm, annot=True, fmt='d', cmap='Blues', xticklabels=nb.classes_, yticklabels=nb.classes_)\n",
    "plt.title(\"Confusion Matrix Heatmap\")\n",
    "plt.xlabel(\"Predicted Label\")\n",
    "plt.ylabel(\"True Label\")\n",
    "plt.tight_layout()\n",
    "plt.show()\n"
   ]
  },
  {
   "cell_type": "code",
   "execution_count": null,
   "id": "d236a24f-9c01-4370-a974-0566c6e1d06b",
   "metadata": {},
   "outputs": [],
   "source": []
  }
 ],
 "metadata": {
  "kernelspec": {
   "display_name": "Python 3 (ipykernel)",
   "language": "python",
   "name": "python3"
  },
  "language_info": {
   "codemirror_mode": {
    "name": "ipython",
    "version": 3
   },
   "file_extension": ".py",
   "mimetype": "text/x-python",
   "name": "python",
   "nbconvert_exporter": "python",
   "pygments_lexer": "ipython3",
   "version": "3.12.3"
  }
 },
 "nbformat": 4,
 "nbformat_minor": 5
}
